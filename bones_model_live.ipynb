{
 "cells": [
  {
   "cell_type": "raw",
   "id": "d4f64f2f",
   "metadata": {},
   "source": [
    "Jupyter Notebook created by Kevin Cremin\n",
    "email = cremin.kev@gmail.com"
   ]
  },
  {
   "cell_type": "code",
   "execution_count": 43,
   "id": "dd06c130",
   "metadata": {},
   "outputs": [],
   "source": [
    "import pandas as pd\n",
    "import matplotlib.pyplot as plt\n",
    "import numpy as np\n",
    "import pickle\n",
    "\n",
    "from sklearn.model_selection import train_test_split\n",
    "from sklearn.tree import DecisionTreeRegressor\n",
    "from sklearn.neural_network import MLPRegressor\n",
    "from sklearn import datasets\n",
    "import sklearn.metrics as metrics\n",
    "\n",
    "import functions as fun"
   ]
  },
  {
   "cell_type": "code",
   "execution_count": null,
   "id": "75b8d264",
   "metadata": {},
   "outputs": [],
   "source": [
    " "
   ]
  },
  {
   "cell_type": "code",
   "execution_count": 138,
   "id": "dc3df19e",
   "metadata": {},
   "outputs": [],
   "source": [
    "# Define function to load data file, setup the features, normalize features\n",
    "#    and use the model for prediction\n",
    "\n",
    "# FUNCTION PARAMETERS:\n",
    "# filename = [str] file path of spectra data to be estimated\n",
    "# output = [True or False] print temperature results \n",
    "\n",
    "def temp_predict(filename, output):\n",
    "    \n",
    "    # Import model parameters\n",
    "    model_filename = 'NN_model_bones.sav'   # Model filename\n",
    "    model = pickle.load(open(model_filename, 'rb'))\n",
    "\n",
    "    # Import training data summary (mean, std, etc...) for feature normalization\n",
    "    train_data_summary = pd.read_csv('train_data_summary.csv').set_index('Unnamed: 0')\n",
    "    train_data_summary.index.name = None \n",
    "        \n",
    "    data = pd.read_csv(filename, names=['w','amp'], header=None)\n",
    "    feature_df = fun.feature_setup(data)\n",
    "    feature_norm = (feature_df - train_data_summary.loc['mean'])/train_data_summary.loc['std'] # normalize feature df\n",
    "    feature_norm = feature_norm[['560 w',\n",
    "                           '560 amp',\n",
    "                           '610 w',\n",
    "                           '560/610',\n",
    "                           '645/610',\n",
    "                           '865 shoulder',\n",
    "                           '1040 w',\n",
    "                           '3400 w']]\n",
    "    \n",
    "    pred_temp = model.predict(feature_norm)[0]\n",
    "    sample_name = filename.split('/')[-1]\n",
    "    sample_name = sample_name.split('.')[0]    \n",
    "    \n",
    "    if output == True:\n",
    "        print(sample_name+'     Temp: '+str(int(pred_temp))+' C')\n",
    "    \n",
    "    return [sample_name, pred_temp]"
   ]
  },
  {
   "cell_type": "code",
   "execution_count": 147,
   "id": "c4902999",
   "metadata": {},
   "outputs": [
    {
     "name": "stdout",
     "output_type": "stream",
     "text": [
      "@M1 200C     Temp: 158 C\n"
     ]
    },
    {
     "data": {
      "text/plain": [
       "['@M1 200C', 158.0678684587528]"
      ]
     },
     "execution_count": 147,
     "metadata": {},
     "output_type": "execute_result"
    }
   ],
   "source": [
    "# Example\n",
    "# \n",
    "temp_predict('modern_bones_baselined/@M1 200C.csv',output=True)"
   ]
  },
  {
   "cell_type": "code",
   "execution_count": null,
   "id": "de1c7184",
   "metadata": {},
   "outputs": [],
   "source": []
  },
  {
   "cell_type": "markdown",
   "id": "9a8a7435",
   "metadata": {},
   "source": [
    "# Predict list of data files"
   ]
  },
  {
   "cell_type": "code",
   "execution_count": 155,
   "id": "c1310f6b",
   "metadata": {},
   "outputs": [],
   "source": [
    "# Take list of datafiles and save the predicted temperatures to a csv file\n",
    "\n",
    "path = 'full spectra mid/'\n",
    "file_list = ['TD10-2-BB-2009-H12-60 @',\n",
    "             'TD10-2-BB-2009-J17-94@',\n",
    "             'TD10-2-BB-2009-J20-202@',\n",
    "             'TD10-2-BB-2009-K12-108@',\n",
    "             'TD10-2-BB-2009-K15-92@',\n",
    "             'TD10-2-BB-2009-L11-111@',\n",
    "             'TD10-2-BB-2009-L13-251@',\n",
    "             'TD10-2-BB-2009-M12-158@',\n",
    "             'TD10-2-BB-2009-M16-695@',\n",
    "             'TD10-2-BB-2009-M17-42@',\n",
    "             'TD10-2-BB-2009-M21-354@',\n",
    "             'TD10-2-BB-2009-M21-444@',\n",
    "             'TD10-2-BB-2009-M22-118@',\n",
    "             'TD10-2-BB-2009-N19-582@',\n",
    "             'TD10-2-BB-O20-1@']"
   ]
  },
  {
   "cell_type": "code",
   "execution_count": 156,
   "id": "25b4e8b7",
   "metadata": {},
   "outputs": [],
   "source": [
    "pred_temp_df = pd.DataFrame(data=[],columns=['sample','temperature'])\n",
    "temp_dict = {}\n",
    "\n",
    "for m in file_list:\n",
    "    [sample,T] = temp_predict(path+m+'.csv',output=False)\n",
    "    \n",
    "    temp_dict['sample'] = sample\n",
    "    temp_dict['temperature'] = T\n",
    "    pred_temp_df = pred_temp_df.append(temp_dict,ignore_index=True)\n",
    "\n",
    "# Save dataframe to .csv file\n",
    "pred_temp_df.to_csv(path+'predicted_temperatures.csv',index=None)"
   ]
  },
  {
   "cell_type": "code",
   "execution_count": 157,
   "id": "a2cb5d7e",
   "metadata": {},
   "outputs": [
    {
     "data": {
      "text/html": [
       "<div>\n",
       "<style scoped>\n",
       "    .dataframe tbody tr th:only-of-type {\n",
       "        vertical-align: middle;\n",
       "    }\n",
       "\n",
       "    .dataframe tbody tr th {\n",
       "        vertical-align: top;\n",
       "    }\n",
       "\n",
       "    .dataframe thead th {\n",
       "        text-align: right;\n",
       "    }\n",
       "</style>\n",
       "<table border=\"1\" class=\"dataframe\">\n",
       "  <thead>\n",
       "    <tr style=\"text-align: right;\">\n",
       "      <th></th>\n",
       "      <th>sample</th>\n",
       "      <th>temperature</th>\n",
       "    </tr>\n",
       "  </thead>\n",
       "  <tbody>\n",
       "    <tr>\n",
       "      <th>0</th>\n",
       "      <td>TD10-2-BB-2009-H12-60 @</td>\n",
       "      <td>294.199800</td>\n",
       "    </tr>\n",
       "    <tr>\n",
       "      <th>1</th>\n",
       "      <td>TD10-2-BB-2009-J17-94@</td>\n",
       "      <td>448.797612</td>\n",
       "    </tr>\n",
       "    <tr>\n",
       "      <th>2</th>\n",
       "      <td>TD10-2-BB-2009-J20-202@</td>\n",
       "      <td>445.704899</td>\n",
       "    </tr>\n",
       "    <tr>\n",
       "      <th>3</th>\n",
       "      <td>TD10-2-BB-2009-K12-108@</td>\n",
       "      <td>149.371031</td>\n",
       "    </tr>\n",
       "    <tr>\n",
       "      <th>4</th>\n",
       "      <td>TD10-2-BB-2009-K15-92@</td>\n",
       "      <td>25.897935</td>\n",
       "    </tr>\n",
       "    <tr>\n",
       "      <th>5</th>\n",
       "      <td>TD10-2-BB-2009-L11-111@</td>\n",
       "      <td>179.353028</td>\n",
       "    </tr>\n",
       "    <tr>\n",
       "      <th>6</th>\n",
       "      <td>TD10-2-BB-2009-L13-251@</td>\n",
       "      <td>21.029388</td>\n",
       "    </tr>\n",
       "    <tr>\n",
       "      <th>7</th>\n",
       "      <td>TD10-2-BB-2009-M12-158@</td>\n",
       "      <td>69.854903</td>\n",
       "    </tr>\n",
       "    <tr>\n",
       "      <th>8</th>\n",
       "      <td>TD10-2-BB-2009-M16-695@</td>\n",
       "      <td>137.813536</td>\n",
       "    </tr>\n",
       "    <tr>\n",
       "      <th>9</th>\n",
       "      <td>TD10-2-BB-2009-M17-42@</td>\n",
       "      <td>764.691086</td>\n",
       "    </tr>\n",
       "    <tr>\n",
       "      <th>10</th>\n",
       "      <td>TD10-2-BB-2009-M21-354@</td>\n",
       "      <td>421.223670</td>\n",
       "    </tr>\n",
       "    <tr>\n",
       "      <th>11</th>\n",
       "      <td>TD10-2-BB-2009-M21-444@</td>\n",
       "      <td>394.782665</td>\n",
       "    </tr>\n",
       "    <tr>\n",
       "      <th>12</th>\n",
       "      <td>TD10-2-BB-2009-M22-118@</td>\n",
       "      <td>33.201403</td>\n",
       "    </tr>\n",
       "    <tr>\n",
       "      <th>13</th>\n",
       "      <td>TD10-2-BB-2009-N19-582@</td>\n",
       "      <td>443.179781</td>\n",
       "    </tr>\n",
       "    <tr>\n",
       "      <th>14</th>\n",
       "      <td>TD10-2-BB-O20-1@</td>\n",
       "      <td>203.633803</td>\n",
       "    </tr>\n",
       "  </tbody>\n",
       "</table>\n",
       "</div>"
      ],
      "text/plain": [
       "                     sample  temperature\n",
       "0   TD10-2-BB-2009-H12-60 @   294.199800\n",
       "1    TD10-2-BB-2009-J17-94@   448.797612\n",
       "2   TD10-2-BB-2009-J20-202@   445.704899\n",
       "3   TD10-2-BB-2009-K12-108@   149.371031\n",
       "4    TD10-2-BB-2009-K15-92@    25.897935\n",
       "5   TD10-2-BB-2009-L11-111@   179.353028\n",
       "6   TD10-2-BB-2009-L13-251@    21.029388\n",
       "7   TD10-2-BB-2009-M12-158@    69.854903\n",
       "8   TD10-2-BB-2009-M16-695@   137.813536\n",
       "9    TD10-2-BB-2009-M17-42@   764.691086\n",
       "10  TD10-2-BB-2009-M21-354@   421.223670\n",
       "11  TD10-2-BB-2009-M21-444@   394.782665\n",
       "12  TD10-2-BB-2009-M22-118@    33.201403\n",
       "13  TD10-2-BB-2009-N19-582@   443.179781\n",
       "14         TD10-2-BB-O20-1@   203.633803"
      ]
     },
     "execution_count": 157,
     "metadata": {},
     "output_type": "execute_result"
    },
    {
     "data": {
      "image/png": "[encoded data removed]",
      "text/plain": [
       "<Figure size 432x288 with 1 Axes>"
      ]
     },
     "metadata": {
      "needs_background": "light"
     },
     "output_type": "display_data"
    }
   ],
   "source": [
    "# plot predicted temperature distribution\n",
    "plt.hist(pred_temp_df['temperature'],bins=8)\n",
    "plt.xlabel('Temperature (C)',fontsize=20)\n",
    "plt.title('Temperature distribution',fontsize=20)\n",
    "pred_temp_df"
   ]
  },
  {
   "cell_type": "code",
   "execution_count": null,
   "id": "be2b0f37",
   "metadata": {},
   "outputs": [],
   "source": []
  },
  {
   "cell_type": "code",
   "execution_count": null,
   "id": "44c25e94",
   "metadata": {},
   "outputs": [],
   "source": []
  }
 ],
 "metadata": {
  "kernelspec": {
   "display_name": "Python 3",
   "language": "python",
   "name": "python3"
  },
  "language_info": {
   "codemirror_mode": {
    "name": "ipython",
    "version": 3
   },
   "file_extension": ".py",
   "mimetype": "text/x-python",
   "name": "python",
   "nbconvert_exporter": "python",
   "pygments_lexer": "ipython3",
   "version": "3.8.10"
  }
 },
 "nbformat": 4,
 "nbformat_minor": 5
}
